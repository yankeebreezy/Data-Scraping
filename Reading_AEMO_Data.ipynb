{
  "nbformat": 4,
  "nbformat_minor": 0,
  "metadata": {
    "colab": {
      "name": "Reading AEMO Data.ipynb",
      "provenance": [],
      "collapsed_sections": []
    },
    "kernelspec": {
      "name": "python3",
      "display_name": "Python 3"
    }
  },
  "cells": [
    {
      "cell_type": "code",
      "metadata": {
        "id": "kyOMu2SVUqnp",
        "colab": {
          "base_uri": "https://localhost:8080/"
        },
        "outputId": "9be6e5c0-ab3f-4673-c6dc-7069b49824c9"
      },
      "source": [
        "import pandas as pd\n",
        "import numpy as np\n",
        "import datetime\n",
        "import sys\n",
        "from io import StringIO\n",
        "import requests\n",
        "\n",
        "today = datetime.datetime.now()\n",
        "aemo_data = []\n",
        "year = str(2019)\n",
        "for i in range(1,13):\n",
        "  month = str(i)\n",
        "  if i in range(1, 10):\n",
        "    month = str(i).zfill(2)\n",
        "  url=\"https://www.aemo.com.au/aemo/data/nem/priceanddemand/PRICE_AND_DEMAND_\"+year+month+\"_NSW1.csv\"\n",
        "  try:\n",
        "        headers = {'User-Agent': 'Mozilla/5.0 (Windows NT 6.1; WOW64) AppleWebKit/537.36 (KHTML, like Gecko) Chrome/56.0.2924.76 Safari/537.36'}\n",
        "        raw_data=requests.get(url, headers= headers).text\n",
        "        aemo_month=pd.read_csv(StringIO(raw_data), sep=\",\", parse_dates=True, index_col='SETTLEMENTDATE')\n",
        "        aemo_data.append(aemo_month)\n",
        "  except:\n",
        "    print(\"Month not found:\", sys.exc_info()[0])\n",
        "\n",
        "aemo = pd.concat(aemo_data)\n",
        "print(aemo)\n"
      ],
      "execution_count": 9,
      "outputs": [
        {
          "output_type": "stream",
          "text": [
            "                    REGION  TOTALDEMAND    RRP PERIODTYPE\n",
            "SETTLEMENTDATE                                           \n",
            "2019-01-01 00:30:00   NSW1      7457.58  66.95      TRADE\n",
            "2019-01-01 01:00:00   NSW1      7243.21  69.33      TRADE\n",
            "2019-01-01 01:30:00   NSW1      6918.55  72.80      TRADE\n",
            "2019-01-01 02:00:00   NSW1      6676.58  70.31      TRADE\n",
            "2019-01-01 02:30:00   NSW1      6513.24  66.98      TRADE\n",
            "...                    ...          ...    ...        ...\n",
            "2019-12-31 22:00:00   NSW1      7791.11  49.01      TRADE\n",
            "2019-12-31 22:30:00   NSW1      7757.66  55.25      TRADE\n",
            "2019-12-31 23:00:00   NSW1      7662.03  50.64      TRADE\n",
            "2019-12-31 23:30:00   NSW1      7455.11  49.98      TRADE\n",
            "2020-01-01 00:00:00   NSW1      7318.64  50.01      TRADE\n",
            "\n",
            "[17520 rows x 4 columns]\n"
          ],
          "name": "stdout"
        }
      ]
    }
  ]
}